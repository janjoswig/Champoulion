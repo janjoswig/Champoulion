{
 "cells": [
  {
   "cell_type": "code",
   "execution_count": 2,
   "id": "about-cocktail",
   "metadata": {
    "ExecuteTime": {
     "end_time": "2022-02-05T13:23:05.246934Z",
     "start_time": "2022-02-05T13:23:05.219919Z"
    }
   },
   "outputs": [
    {
     "ename": "ImportError",
     "evalue": "attempted relative import with no known parent package",
     "output_type": "error",
     "traceback": [
      "\u001b[1;31m---------------------------------------------------------------------------\u001b[0m",
      "\u001b[1;31mImportError\u001b[0m                               Traceback (most recent call last)",
      "\u001b[1;32m/tmp/ipykernel_9823/4129781110.py\u001b[0m in \u001b[0;36m<module>\u001b[1;34m\u001b[0m\n\u001b[0;32m      2\u001b[0m \u001b[1;32mfrom\u001b[0m \u001b[0mpathlib\u001b[0m \u001b[1;32mimport\u001b[0m \u001b[0mPath\u001b[0m\u001b[1;33m\u001b[0m\u001b[1;33m\u001b[0m\u001b[0m\n\u001b[0;32m      3\u001b[0m \u001b[1;33m\u001b[0m\u001b[0m\n\u001b[1;32m----> 4\u001b[1;33m \u001b[1;32mfrom\u001b[0m \u001b[1;33m.\u001b[0m \u001b[1;32mimport\u001b[0m \u001b[0mchampoulion\u001b[0m  \u001b[1;31m# \"import\" recognised as cm-property\u001b[0m\u001b[1;33m\u001b[0m\u001b[1;33m\u001b[0m\u001b[0m\n\u001b[0m",
      "\u001b[1;31mImportError\u001b[0m: attempted relative import with no known parent package"
     ]
    }
   ],
   "source": [
    "import os, sys\n",
    "from pathlib import Path\n",
    "\n",
    "from . import champoulion  # \"import\" recognised as cm-property"
   ]
  },
  {
   "cell_type": "code",
   "execution_count": null,
   "id": "twelve-richmond",
   "metadata": {},
   "outputs": [],
   "source": [
    "def some_function(x: str, y: int=0):\n",
    "    \"\"\"A docstring\"\"\"\n",
    "    x = x.upper()\n",
    "    return [x] * y\n",
    "\n",
    "@decorator\n",
    "class SomeClass(ParentClass):\n",
    "    def __init__(self, *args, **kwargs):\n",
    "        for kw, val in kwargs.items():\n",
    "            check_consistency(kw, val)\n",
    "        super().__init__(*args, **kwargs)\n",
    "\n",
    "    def method(self): return self._value"
   ]
  },
  {
   "cell_type": "code",
   "execution_count": null,
   "id": "solar-memory",
   "metadata": {},
   "outputs": [],
   "source": [
    "CONSTANT = 3.14\n",
    "1 + 4\n",
    "2 - 3\n",
    "10000 * 1e4\n",
    "3.3 / 3\n",
    "x**42"
   ]
  },
  {
   "cell_type": "code",
   "execution_count": null,
   "id": "perfect-paraguay",
   "metadata": {},
   "outputs": [],
   "source": [
    "lambda x: x.lower()"
   ]
  },
  {
   "cell_type": "code",
   "execution_count": null,
   "id": "crucial-norway",
   "metadata": {},
   "outputs": [],
   "source": [
    "if True: print(\"yes\")"
   ]
  },
  {
   "cell_type": "code",
   "execution_count": null,
   "id": "freelance-maine",
   "metadata": {},
   "outputs": [],
   "source": [
    "try:\n",
    "    some_instace = SomeClass()\n",
    "except RuntimeError:\n",
    "    some_reaction()\n",
    "else:\n",
    "    some_instance.method()"
   ]
  }
 ],
 "metadata": {
  "kernelspec": {
   "display_name": "3.10.0",
   "language": "python",
   "name": "3.10.0"
  },
  "language_info": {
   "codemirror_mode": {
    "name": "ipython",
    "version": 3
   },
   "file_extension": ".py",
   "mimetype": "text/x-python",
   "name": "python",
   "nbconvert_exporter": "python",
   "pygments_lexer": "ipython3",
   "version": "3.10.0"
  },
  "toc": {
   "base_numbering": 1,
   "nav_menu": {},
   "number_sections": true,
   "sideBar": true,
   "skip_h1_title": false,
   "title_cell": "Table of Contents",
   "title_sidebar": "Contents",
   "toc_cell": false,
   "toc_position": {},
   "toc_section_display": true,
   "toc_window_display": false
  },
  "varInspector": {
   "cols": {
    "lenName": 16,
    "lenType": 16,
    "lenVar": 40
   },
   "kernels_config": {
    "python": {
     "delete_cmd_postfix": "",
     "delete_cmd_prefix": "del ",
     "library": "var_list.py",
     "varRefreshCmd": "print(var_dic_list())"
    },
    "r": {
     "delete_cmd_postfix": ") ",
     "delete_cmd_prefix": "rm(",
     "library": "var_list.r",
     "varRefreshCmd": "cat(var_dic_list()) "
    }
   },
   "types_to_exclude": [
    "module",
    "function",
    "builtin_function_or_method",
    "instance",
    "_Feature"
   ],
   "window_display": false
  }
 },
 "nbformat": 4,
 "nbformat_minor": 5
}
